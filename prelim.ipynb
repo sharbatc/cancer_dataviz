{
 "cells": [
  {
   "cell_type": "code",
   "execution_count": 1,
   "metadata": {
    "collapsed": true
   },
   "outputs": [],
   "source": [
    "CLIN_PATH = './data/clinical.project-TCGA-BRCA.2016-09-30T12_32_20.666404.json' #Patient data\n",
    "DIST_PATH = './data/dd5_5_for_TCGA.txt' # Distance metric"
   ]
  },
  {
   "cell_type": "code",
   "execution_count": 2,
   "metadata": {
    "collapsed": true
   },
   "outputs": [],
   "source": [
    "import pandas as pd\n",
    "import numpy as np\n",
    "import json"
   ]
  },
  {
   "cell_type": "code",
   "execution_count": 3,
   "metadata": {
    "collapsed": true
   },
   "outputs": [],
   "source": [
    "# Clinical data of patients\n",
    "big_df = pd.read_json(CLIN_PATH)  "
   ]
  },
  {
   "cell_type": "code",
   "execution_count": 4,
   "metadata": {},
   "outputs": [
    {
     "name": "stderr",
     "output_type": "stream",
     "text": [
      "/home/kirtan/anaconda3/lib/python3.5/site-packages/pandas/core/indexes/api.py:43: RuntimeWarning: unorderable types: int() > str(), sort order is undefined for incomparable objects\n",
      "  union = _union_indexes(indexes)\n"
     ]
    }
   ],
   "source": [
    "# Making final clinical dataframe by combining dictionaries\n",
    "df1 = big_df['demographic'].apply(pd.Series)\n",
    "df2_test = pd.DataFrame(big_df['diagnoses'].apply(pd.Series))\n",
    "df2 = df2_test[0].apply(pd.Series)\n",
    "df3_test = pd.DataFrame(big_df['exposures'].apply(pd.Series))\n",
    "df3 = df3_test[0].apply(pd.Series)"
   ]
  },
  {
   "cell_type": "code",
   "execution_count": 6,
   "metadata": {},
   "outputs": [],
   "source": [
    "df_clin = pd.concat((big_df['case_id'],df1,df2,df3),axis=1)"
   ]
  },
  {
   "cell_type": "code",
   "execution_count": 15,
   "metadata": {},
   "outputs": [],
   "source": [
    "# Drop nulls rows and columns\n",
    "df_clin.dropna(how='all', inplace = True)\n",
    "df_clin.dropna(how='all', inplace = True, axis=1)"
   ]
  },
  {
   "cell_type": "code",
   "execution_count": 44,
   "metadata": {},
   "outputs": [
    {
     "data": {
      "text/plain": [
       "case_id                        1098\n",
       "demographic_id                 1097\n",
       "ethnicity                      1097\n",
       "gender                         1097\n",
       "race                           1097\n",
       "submitter_id                   1097\n",
       "updated_datetime               1097\n",
       "year_of_birth                  1094\n",
       "year_of_death                   104\n",
       "age_at_diagnosis               1081\n",
       "classification_of_tumor        1097\n",
       "days_to_birth                  1081\n",
       "days_to_death                   151\n",
       "days_to_last_follow_up          992\n",
       "diagnosis_id                   1097\n",
       "last_known_disease_status      1097\n",
       "morphology                     1097\n",
       "primary_diagnosis              1097\n",
       "prior_malignancy               1097\n",
       "progression_or_recurrence      1097\n",
       "site_of_resection_or_biopsy    1097\n",
       "submitter_id                   1097\n",
       "tissue_or_organ_of_origin      1097\n",
       "tumor_grade                    1097\n",
       "tumor_stage                    1097\n",
       "updated_datetime               1097\n",
       "vital_status                   1097\n",
       "exposure_id                    1097\n",
       "submitter_id                   1097\n",
       "updated_datetime               1097\n",
       "dtype: int64"
      ]
     },
     "execution_count": 44,
     "metadata": {},
     "output_type": "execute_result"
    }
   ],
   "source": [
    "df.count()"
   ]
  },
  {
   "cell_type": "code",
   "execution_count": null,
   "metadata": {
    "collapsed": true
   },
   "outputs": [],
   "source": []
  }
 ],
 "metadata": {
  "kernelspec": {
   "display_name": "Python [default]",
   "language": "python",
   "name": "python3"
  },
  "language_info": {
   "codemirror_mode": {
    "name": "ipython",
    "version": 3
   },
   "file_extension": ".py",
   "mimetype": "text/x-python",
   "name": "python",
   "nbconvert_exporter": "python",
   "pygments_lexer": "ipython3",
   "version": "3.5.3"
  }
 },
 "nbformat": 4,
 "nbformat_minor": 2
}
